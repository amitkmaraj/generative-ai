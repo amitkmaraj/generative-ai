{
  "cells": [
    {
      "cell_type": "code",
      "execution_count": 1,
      "metadata": {
        "id": "3YcBnq20nC6r"
      },
      "outputs": [],
      "source": [
        "# Copyright 2024 Google LLC\n",
        "#\n",
        "# Licensed under the Apache License, Version 2.0 (the \"License\");\n",
        "# you may not use this file except in compliance with the License.\n",
        "# You may obtain a copy of the License at\n",
        "#\n",
        "#     https://www.apache.org/licenses/LICENSE-2.0\n",
        "#\n",
        "# Unless required by applicable law or agreed to in writing, software\n",
        "# distributed under the License is distributed on an \"AS IS\" BASIS,\n",
        "# WITHOUT WARRANTIES OR CONDITIONS OF ANY KIND, either express or implied.\n",
        "# See the License for the specific language governing permissions and\n",
        "# limitations under the License."
      ]
    },
    {
      "cell_type": "markdown",
      "metadata": {
        "id": "xU0F5ObiGgF4"
      },
      "source": [
        "# Deploying a RAG Application with AlloyDB to LangChain on Vertex AI\n",
        "\n",
        "<table align=\"left\">\n",
        "  <td style=\"text-align: center\">\n",
        "    <a href=\"https://colab.research.google.com/github/GoogleCloudPlatform/generative-ai/blob/main/gemini/reasoning-engine/tutorial_alloydb_rag_agent.ipynb\">\n",
        "      <img src=\"https://cloud.google.com/ml-engine/images/colab-logo-32px.png\" alt=\"Google Colaboratory logo\"><br> Run in Colab\n",
        "    </a>\n",
        "  </td>\n",
        "  <td style=\"text-align: center\">\n",
        "    <a href=\"https://console.cloud.google.com/vertex-ai/colab/import/https:%2F%2Fraw.githubusercontent.com%2FGoogleCloudPlatform%2Fgenerative-ai%2Fmain%2Fgemini%2Freasoning-engine%2Ftutorial_alloydb_rag_agent.ipynb\">\n",
        "      <img width=\"32px\" src=\"https://lh3.googleusercontent.com/JmcxdQi-qOpctIvWKgPtrzZdJJK-J3sWE1RsfjZNwshCFgE_9fULcNpuXYTilIR2hjwN\" alt=\"Google Cloud Colab Enterprise logo\"><br> Run in Colab Enterprise\n",
        "    </a>\n",
        "  </td>      \n",
        "  <td style=\"text-align: center\">\n",
        "    <a href=\"https://github.com/GoogleCloudPlatform/generative-ai/blob/main/gemini/reasoning-engine/tutorial_alloydb_rag_agent.ipynb\">\n",
        "      <img src=\"https://cloud.google.com/ml-engine/images/github-logo-32px.png\" alt=\"GitHub logo\"><br> View on GitHub\n",
        "    </a>\n",
        "  </td>\n",
        "  <td style=\"text-align: center\">\n",
        "    <a href=\"https://console.cloud.google.com/vertex-ai/workbench/deploy-notebook?download_url=https://raw.githubusercontent.com/GoogleCloudPlatform/generative-ai/main/gemini/reasoning-engine/tutorial_alloydb_rag_agent.ipynb\">\n",
        "      <img src=\"https://lh3.googleusercontent.com/UiNooY4LUgW_oTvpsNhPpQzsstV5W8F7rYgxgGBD85cWJoLmrOzhVs_ksK_vgx40SHs7jCqkTkCk=e14-rj-sc0xffffff-h130-w32\" alt=\"Vertex AI logo\"><br> Open in Vertex AI Workbench\n",
        "    </a>\n",
        "  </td>\n",
        "</table>"
      ]
    },
    {
      "cell_type": "markdown",
      "metadata": {
        "id": "5988a2fe325a"
      },
      "source": [
        "| | |\n",
        "|-|-|\n",
        "|Author(s) | [Averi Kitsch](https://github.com/averikitsch) |"
      ]
    },
    {
      "cell_type": "markdown",
      "metadata": {
        "id": "GZft-jYpHmYv"
      },
      "source": [
        "## Overview\n",
        "\n",
        "[LangChain on Vertex AI](https://cloud.google.com/vertex-ai/generative-ai/docs/reasoning-engine/overview)\n",
        "is a managed service that helps you to build and deploy LangChain apps to a managed Reasoning Engine runtime.\n",
        "\n",
        "RAG (Retrieval-Augmented Generation) is an AI framework that combines the strengths of traditional information retrieval systems (such as databases) with the capabilities of generative large language models (LLMs).  By combining this extra knowledge with its own language skills, the AI can write text that is more accurate, up-to-date, and relevant to your specific needs.\n",
        "\n",
        "## Objectives\n",
        "\n",
        "In this tutorial, you will learn how to build and deploy an agent (model, tools, and reasoning) using the Vertex AI SDK for Python and AlloyDB for PostgreSQL LangChain integration.\n",
        "\n",
        "Your [LangChain](https://python.langchain.com/docs/get_started/introduction) agent will use an [AlloyDB Vector Store](https://github.com/googleapis/langchain-google-alloydb-pg-python/tree/main) to perform a similary search and retrieve related data to ground the LLM response.\n",
        "\n",
        "* Install and set up the AlloyDB for PostgreSQL for LangChain and the Vertex AI Python SDKs\n",
        "* Create an AlloyDB cluster and instance\n",
        "* Create an AlloyDB database user\n",
        "* Define a retriever to perform similarity searches\n",
        "* Use the LangChain agent template provided in the Vertex AI SDK for Reasoning Engine\n",
        "* Deploy and test your agent on Reasoning Engine in Vertex AI\n",
        "\n",
        "⚠️ Note: LangChain on Vertex AI currently only supports public IP for AlloyDB due to VPC network restrictions."
      ]
    },
    {
      "cell_type": "markdown",
      "metadata": {
        "id": "QL58mPu9Hw7g"
      },
      "source": [
        "## Before you begin\n",
        "\n",
        "1. In the Google Cloud console, on the project selector page, select or [create a Google Cloud project](https://cloud.google.com/resource-manager/docs/creating-managing-projects).\n",
        "1. [Make sure that billing is enabled for your Google Cloud project](https://cloud.google.com/billing/docs/how-to/verify-billing-enabled#console).\n",
        "\n",
        "### Required roles\n",
        "\n",
        "To get the permissions that you need to complete the tutorial, ask your administrator to grant you the [Owner](https://cloud.google.com/iam/docs/understanding-roles#owner) (`roles/owner`) IAM role on your project. For more information about granting roles, see [Manage access](https://cloud.google.com/iam/docs/granting-changing-revoking-access).\n"
      ]
    },
    {
      "cell_type": "markdown",
      "metadata": {
        "id": "-RYpMytsZ882"
      },
      "source": [
        "### Install and import dependencies"
      ]
    },
    {
      "cell_type": "code",
      "execution_count": 2,
      "metadata": {
        "id": "w_94DKOCX5pG",
        "colab": {
          "base_uri": "https://localhost:8080/"
        },
        "outputId": "d22fc055-3bee-472e-af34-5fbc889c3884"
      },
      "outputs": [
        {
          "output_type": "stream",
          "name": "stdout",
          "text": [
            "\u001b[2K     \u001b[90m━━━━━━━━━━━━━━━━━━━━━━━━━━━━━━━━━━━━━━━━\u001b[0m \u001b[32m50.4/50.4 kB\u001b[0m \u001b[31m1.3 MB/s\u001b[0m eta \u001b[36m0:00:00\u001b[0m\n",
            "\u001b[2K   \u001b[90m━━━━━━━━━━━━━━━━━━━━━━━━━━━━━━━━━━━━━━━━\u001b[0m \u001b[32m40.5/40.5 kB\u001b[0m \u001b[31m1.5 MB/s\u001b[0m eta \u001b[36m0:00:00\u001b[0m\n",
            "\u001b[2K   \u001b[90m━━━━━━━━━━━━━━━━━━━━━━━━━━━━━━━━━━━━━━━━\u001b[0m \u001b[32m86.0/86.0 kB\u001b[0m \u001b[31m5.0 MB/s\u001b[0m eta \u001b[36m0:00:00\u001b[0m\n",
            "\u001b[2K   \u001b[90m━━━━━━━━━━━━━━━━━━━━━━━━━━━━━━━━━━━━━━━━\u001b[0m \u001b[32m2.3/2.3 MB\u001b[0m \u001b[31m28.4 MB/s\u001b[0m eta \u001b[36m0:00:00\u001b[0m\n",
            "\u001b[2K   \u001b[90m━━━━━━━━━━━━━━━━━━━━━━━━━━━━━━━━━━━━━━━━\u001b[0m \u001b[32m42.1/42.1 kB\u001b[0m \u001b[31m2.2 MB/s\u001b[0m eta \u001b[36m0:00:00\u001b[0m\n",
            "\u001b[2K   \u001b[90m━━━━━━━━━━━━━━━━━━━━━━━━━━━━━━━━━━━━━━━━\u001b[0m \u001b[32m130.5/130.5 kB\u001b[0m \u001b[31m4.4 MB/s\u001b[0m eta \u001b[36m0:00:00\u001b[0m\n",
            "\u001b[2K   \u001b[90m━━━━━━━━━━━━━━━━━━━━━━━━━━━━━━━━━━━━━━━━\u001b[0m \u001b[32m90.2/90.2 kB\u001b[0m \u001b[31m5.4 MB/s\u001b[0m eta \u001b[36m0:00:00\u001b[0m\n",
            "\u001b[2K   \u001b[90m━━━━━━━━━━━━━━━━━━━━━━━━━━━━━━━━━━━━━━━━\u001b[0m \u001b[32m76.4/76.4 kB\u001b[0m \u001b[31m3.7 MB/s\u001b[0m eta \u001b[36m0:00:00\u001b[0m\n",
            "\u001b[2K   \u001b[90m━━━━━━━━━━━━━━━━━━━━━━━━━━━━━━━━━━━━━━━━\u001b[0m \u001b[32m78.0/78.0 kB\u001b[0m \u001b[31m3.6 MB/s\u001b[0m eta \u001b[36m0:00:00\u001b[0m\n",
            "\u001b[2K   \u001b[90m━━━━━━━━━━━━━━━━━━━━━━━━━━━━━━━━━━━━━━━━\u001b[0m \u001b[32m1.0/1.0 MB\u001b[0m \u001b[31m34.4 MB/s\u001b[0m eta \u001b[36m0:00:00\u001b[0m\n",
            "\u001b[2K   \u001b[90m━━━━━━━━━━━━━━━━━━━━━━━━━━━━━━━━━━━━━━━━\u001b[0m \u001b[32m397.0/397.0 kB\u001b[0m \u001b[31m18.7 MB/s\u001b[0m eta \u001b[36m0:00:00\u001b[0m\n",
            "\u001b[2K   \u001b[90m━━━━━━━━━━━━━━━━━━━━━━━━━━━━━━━━━━━━━━━━\u001b[0m \u001b[32m296.7/296.7 kB\u001b[0m \u001b[31m14.5 MB/s\u001b[0m eta \u001b[36m0:00:00\u001b[0m\n",
            "\u001b[2K   \u001b[90m━━━━━━━━━━━━━━━━━━━━━━━━━━━━━━━━━━━━━━━━\u001b[0m \u001b[32m141.1/141.1 kB\u001b[0m \u001b[31m7.5 MB/s\u001b[0m eta \u001b[36m0:00:00\u001b[0m\n",
            "\u001b[2K   \u001b[90m━━━━━━━━━━━━━━━━━━━━━━━━━━━━━━━━━━━━━━━━\u001b[0m \u001b[32m2.7/2.7 MB\u001b[0m \u001b[31m43.9 MB/s\u001b[0m eta \u001b[36m0:00:00\u001b[0m\n",
            "\u001b[2K   \u001b[90m━━━━━━━━━━━━━━━━━━━━━━━━━━━━━━━━━━━━━━━━\u001b[0m \u001b[32m49.5/49.5 kB\u001b[0m \u001b[31m2.5 MB/s\u001b[0m eta \u001b[36m0:00:00\u001b[0m\n",
            "\u001b[2K   \u001b[90m━━━━━━━━━━━━━━━━━━━━━━━━━━━━━━━━━━━━━━━━\u001b[0m \u001b[32m54.5/54.5 kB\u001b[0m \u001b[31m2.9 MB/s\u001b[0m eta \u001b[36m0:00:00\u001b[0m\n",
            "\u001b[2K   \u001b[90m━━━━━━━━━━━━━━━━━━━━━━━━━━━━━━━━━━━━━━━━\u001b[0m \u001b[32m58.3/58.3 kB\u001b[0m \u001b[31m3.3 MB/s\u001b[0m eta \u001b[36m0:00:00\u001b[0m\n",
            "\u001b[?25h"
          ]
        }
      ],
      "source": [
        "%pip install --upgrade --quiet \"langchain-google-alloydb-pg>=0.7.0\" \"google-cloud-aiplatform[reasoningengine,langchain]\" langchain-google-vertexai langchain-community"
      ]
    },
    {
      "cell_type": "code",
      "execution_count": 10,
      "metadata": {
        "id": "2520bbf159a9"
      },
      "outputs": [],
      "source": [
        "import uuid\n",
        "\n",
        "from langchain_community.document_loaders.csv_loader import CSVLoader\n",
        "from langchain_core.documents import Document\n",
        "from langchain_google_alloydb_pg import AlloyDBEngine, AlloyDBVectorStore\n",
        "from langchain_google_vertexai import VertexAIEmbeddings\n",
        "import vertexai\n",
        "from vertexai.preview import reasoning_engines\n",
        "from sqlalchemy import text"
      ]
    },
    {
      "cell_type": "markdown",
      "metadata": {
        "id": "yPKXjZrFZuUZ"
      },
      "source": [
        "### Authenticate to Google Cloud\n",
        "\n",
        "Authenticate to Google Cloud as the IAM user logged into this notebook in order to access your Google Cloud Project."
      ]
    },
    {
      "cell_type": "code",
      "execution_count": 4,
      "metadata": {
        "id": "NyKGtVQjgx13"
      },
      "outputs": [],
      "source": [
        "import sys\n",
        "\n",
        "if \"google.colab\" in sys.modules:\n",
        "    from google.colab import auth\n",
        "\n",
        "    auth.authenticate_user()"
      ]
    },
    {
      "cell_type": "markdown",
      "metadata": {
        "id": "9aGBuLA7aQ6O"
      },
      "source": [
        "### Define project information\n",
        "\n",
        "Initialize `gcloud` with your Project ID and resource location. At this time, only `us-central1` is supported."
      ]
    },
    {
      "cell_type": "code",
      "execution_count": 5,
      "metadata": {
        "id": "vIeI4T_XVcDA",
        "colab": {
          "base_uri": "https://localhost:8080/"
        },
        "outputId": "f1cd3bce-5954-4ae6-f15c-4addd880a45b"
      },
      "outputs": [
        {
          "output_type": "stream",
          "name": "stdout",
          "text": [
            "Updated property [core/project].\n"
          ]
        }
      ],
      "source": [
        "PROJECT_ID = \"conplat-devex-test-project\"  # @param {type:\"string\"}\n",
        "LOCATION = \"us-central1\"\n",
        "\n",
        "!gcloud config set project {PROJECT_ID}"
      ]
    },
    {
      "cell_type": "markdown",
      "metadata": {
        "id": "esrdZL3IL6LN"
      },
      "source": [
        "## Create a Cloud Storage bucket\n",
        "\n",
        "Create or reuse and existing Cloud Storage bucket. Reasoning engine stages the artifacts of your applications in a Cloud Storage bucket as part of the deployment process."
      ]
    },
    {
      "cell_type": "code",
      "execution_count": 6,
      "metadata": {
        "id": "sptkevO4aUT1",
        "colab": {
          "base_uri": "https://localhost:8080/"
        },
        "outputId": "54d185a8-526b-4dd7-855e-21f82145c156"
      },
      "outputs": [
        {
          "output_type": "stream",
          "name": "stdout",
          "text": [
            "Creating gs://amitkmaraj-genai-storage-bucket/...\n",
            "ServiceException: 409 A Cloud Storage bucket named 'amitkmaraj-genai-storage-bucket' already exists. Try another name. Bucket names must be globally unique across all Google Cloud projects, including those outside of your organization.\n"
          ]
        }
      ],
      "source": [
        "STAGING_BUCKET_NAME = \"amitkmaraj-genai-storage-bucket\"  # @param {type:\"string\"}\n",
        "STAGING_BUCKET = f\"gs://{STAGING_BUCKET_NAME}\"\n",
        "\n",
        "# Create a Cloud Storage bucket, if it doesn't already exist\n",
        "!gsutil mb -c standard {STAGING_BUCKET}"
      ]
    },
    {
      "cell_type": "markdown",
      "metadata": {
        "id": "veGoLZBYZjxY"
      },
      "source": [
        "### Enable APIs\n",
        "\n",
        "This tutorial uses the following billable components of Google Cloud, which you'll need to enable for this tutorial:"
      ]
    },
    {
      "cell_type": "code",
      "execution_count": 7,
      "metadata": {
        "id": "PcKjP3PiXDIi",
        "colab": {
          "base_uri": "https://localhost:8080/"
        },
        "outputId": "157558e1-ff08-4f13-9cdb-59729fb02793"
      },
      "outputs": [
        {
          "output_type": "stream",
          "name": "stdout",
          "text": [
            "Operation \"operations/acat.p2-278769704157-ab7f66a1-30ce-4151-95a7-ada0f0bafeaf\" finished successfully.\n"
          ]
        }
      ],
      "source": [
        "!gcloud services enable aiplatform.googleapis.com alloydb.googleapis.com servicenetworking.googleapis.com"
      ]
    },
    {
      "cell_type": "markdown",
      "metadata": {
        "id": "S_yG0kddIvr7"
      },
      "source": [
        "## Set up AlloyDB\n",
        "\n",
        "Use the provided variable names or update the values to use a pre-exisiting AlloyDB cluster and instance."
      ]
    },
    {
      "cell_type": "code",
      "execution_count": 8,
      "metadata": {
        "id": "XtiB5-LVVkv0",
        "colab": {
          "base_uri": "https://localhost:8080/"
        },
        "outputId": "c9a9472f-a2f8-42c2-982e-7621f424723a"
      },
      "outputs": [
        {
          "name": "stdout",
          "output_type": "stream",
          "text": [
            "Please provide a password to be used for 'postgres' database user: password\n"
          ]
        }
      ],
      "source": [
        "REGION = \"us-central1\"  # @param {type:\"string\"}\n",
        "CLUSTER = \"amitkmaraj-genai-chunking-cluster\"  # @param {type:\"string\"}\n",
        "INSTANCE = \"amitkmaraj-genai-chunking-instance\"  # @param {type:\"string\"}\n",
        "DATABASE = \"amitkmaraj_genai_chunking_db\"  # @param {type:\"string\"}\n",
        "TABLE_NAME = \"chunks\"  # @param {type:\"string\"}\n",
        "PASSWORD = input(\"Please provide a password to be used for 'postgres' database user: \")"
      ]
    },
    {
      "cell_type": "markdown",
      "metadata": {
        "id": "WwwSQ2ZUf51F"
      },
      "source": [
        "### Create an AlloyDB cluster and primary instance\n",
        "\n",
        "This tutorial requires a AlloyDB cluster and instance with public IP and IAM authentication enabled."
      ]
    },
    {
      "cell_type": "code",
      "execution_count": null,
      "metadata": {
        "id": "LdbQ2Q0wdNiy"
      },
      "outputs": [],
      "source": [
        "# Create a cluster\n",
        "!gcloud alloydb clusters create {CLUSTER} \\\n",
        "  --database-version=POSTGRES_15 \\\n",
        "  --password={PASSWORD} \\\n",
        "  --region={REGION} \\\n",
        "  --project={PROJECT_ID} \\\n",
        "  --enable-private-service-connect"
      ]
    },
    {
      "cell_type": "code",
      "execution_count": null,
      "metadata": {
        "id": "8HU5u9lLgQSr"
      },
      "outputs": [],
      "source": [
        "# Create an instance\n",
        "!gcloud alloydb instances create {INSTANCE} \\\n",
        "  --instance-type=PRIMARY \\\n",
        "  --cpu-count=2 \\\n",
        "  --region={REGION} \\\n",
        "  --cluster={CLUSTER} \\\n",
        "  --project={PROJECT_ID}"
      ]
    },
    {
      "cell_type": "code",
      "execution_count": null,
      "metadata": {
        "id": "nR1sw5iAh-7w"
      },
      "outputs": [],
      "source": [
        "# Enable Public IP and IAM authentication\n",
        "!gcloud beta alloydb instances update {INSTANCE} \\\n",
        "  --cluster={CLUSTER} \\\n",
        "  --region={REGION} \\\n",
        "  --database-flags=password.enforce_complexity=yes,alloydb.iam_authentication=on \\\n",
        "  --assign-inbound-public-ip=ASSIGN_IPV4"
      ]
    },
    {
      "cell_type": "markdown",
      "metadata": {
        "id": "maqL163MOPu3"
      },
      "source": [
        "**Wait for the update operation to complete!**\n",
        "\n",
        "The operation status can be checked using the following `gcloud` command and replacing `<OPERATION_ID>` with the ID from the above output."
      ]
    },
    {
      "cell_type": "code",
      "execution_count": null,
      "metadata": {
        "id": "eXfwXE6BCFmt"
      },
      "outputs": [],
      "source": [
        "# Wait for the update operation to complete!\n",
        "# Copy the Operation ID from above e.g. operation-1719355575046-61bbeaa4b10a5-82ddd8fb-a6368d07\n",
        "!gcloud alloydb operations describe --region {REGION} operation-1719869774125-61c3662f257cc-a89c23c4-e59e5f40"
      ]
    },
    {
      "cell_type": "markdown",
      "metadata": {
        "id": "ZIjNIc71ixye"
      },
      "source": [
        "### Create a database\n",
        "\n",
        "Create a new database for the application using the AlloyDB for LangChain library to establish a connection pool using the `AlloyDBEngine`."
      ]
    },
    {
      "cell_type": "markdown",
      "metadata": {
        "id": "ZnNy1NFVk9F7"
      },
      "source": [
        "By default, [IAM database authentication](https://cloud.google.com/alloydb/docs/connect-iam) will be used as the method of database authentication. This library uses the IAM principal belonging to the [Application Default Credentials (ADC)](https://cloud.google.com/docs/authentication/application-default-credentials) sourced from the environment.\n",
        "\n",
        "However, to smooth the onboarding process this tutorial will use the [built-in database authentication](https://cloud.google.com/alloydb/docs/database-users/about) using a username and password to access the AlloyDB database can also be used."
      ]
    },
    {
      "cell_type": "code",
      "execution_count": 11,
      "metadata": {
        "id": "Pn4c8oZtixLI"
      },
      "outputs": [],
      "source": [
        "engine = await AlloyDBEngine.afrom_instance(\n",
        "    PROJECT_ID,\n",
        "    REGION,\n",
        "    CLUSTER,\n",
        "    INSTANCE,\n",
        "    database=\"postgres\",\n",
        "    user=\"postgres\",\n",
        "    password=PASSWORD,\n",
        ")\n",
        "\n",
        "async with engine._pool.connect() as conn:\n",
        "    await conn.execute(text(\"COMMIT\"))\n",
        "    await conn.execute(text(f\"CREATE DATABASE {DATABASE}\"))"
      ]
    },
    {
      "cell_type": "markdown",
      "metadata": {
        "id": "OaP1LRhPi0y7"
      },
      "source": [
        "### Initialize a vector store table\n",
        "\n",
        "The `AlloyDBEngine` has a helper method `init_vectorstore_table()` that can be used to create a table with the proper schema to store vector embeddings."
      ]
    },
    {
      "cell_type": "code",
      "execution_count": 12,
      "metadata": {
        "id": "GGd89YWIi2qg"
      },
      "outputs": [],
      "source": [
        "engine = await AlloyDBEngine.afrom_instance(\n",
        "    PROJECT_ID, REGION, CLUSTER, INSTANCE, DATABASE, user=\"postgres\", password=PASSWORD\n",
        ")\n",
        "\n",
        "await engine.ainit_vectorstore_table(\n",
        "    table_name=TABLE_NAME,\n",
        "    vector_size=768,  # Vector size for VertexAI model(textembedding-gecko@latest)\n",
        ")"
      ]
    },
    {
      "cell_type": "markdown",
      "metadata": {
        "id": "sQ1MI8ARi5Rr"
      },
      "source": [
        "### Add embeddings to the vector store\n",
        "\n",
        "Load data from a CSV file to generate and insert embeddings to the vector store."
      ]
    },
    {
      "cell_type": "code",
      "execution_count": 13,
      "metadata": {
        "id": "BqXo2nNYPTXV",
        "colab": {
          "base_uri": "https://localhost:8080/"
        },
        "outputId": "03b422fc-90e2-4604-b248-1fefca7ce717"
      },
      "outputs": [
        {
          "output_type": "stream",
          "name": "stdout",
          "text": [
            "Copying gs://github-repo/generative-ai/gemini/reasoning-engine/movies.csv...\n",
            "/ [1 files][192.6 KiB/192.6 KiB]                                                \n",
            "Operation completed over 1 objects/192.6 KiB.                                    \n"
          ]
        }
      ],
      "source": [
        "# Retrieve the CSV file\n",
        "!gsutil cp gs://github-repo/generative-ai/gemini/reasoning-engine/movies.csv ."
      ]
    },
    {
      "cell_type": "code",
      "execution_count": 14,
      "metadata": {
        "id": "5tGaHva7r4Kc"
      },
      "outputs": [],
      "source": [
        "# Load the CSV file\n",
        "metadata = [\n",
        "    \"show_id\",\n",
        "    \"type\",\n",
        "    \"country\",\n",
        "    \"date_added\",\n",
        "    \"release_year\",\n",
        "    \"rating\",\n",
        "    \"duration\",\n",
        "    \"listed_in\",\n",
        "]\n",
        "loader = CSVLoader(file_path=\"/content/movies.csv\", metadata_columns=metadata)\n",
        "docs = loader.load()"
      ]
    },
    {
      "cell_type": "code",
      "execution_count": 15,
      "metadata": {
        "id": "dkMjEXEmi4ro",
        "colab": {
          "base_uri": "https://localhost:8080/"
        },
        "outputId": "9ee3fff5-8e61-488e-e80d-1761bdca5cf0"
      },
      "outputs": [
        {
          "output_type": "execute_result",
          "data": {
            "text/plain": [
              "['ad7aa24d-0cff-4473-b672-b99aa2677bd2',\n",
              " '60d5c93b-4e01-40bc-8a4f-72d5b63e57e8',\n",
              " 'f747f23d-a163-4b1e-9e88-8adb867182fe',\n",
              " '4e9ec670-a7e2-48d0-a840-ce0e752c273c',\n",
              " '9698421e-d4ac-4349-b297-0779ea86623c',\n",
              " '1db0aad2-9a41-420a-9e91-c0b12d638576',\n",
              " 'd3641a26-0cfa-477a-83fc-923f52e8c474',\n",
              " '52416990-1b69-4889-9518-e60d8357d503',\n",
              " '1ebe416b-5e11-4a1f-a3d5-6569094a432c',\n",
              " '130be2ef-8b08-42d3-af1f-1b9ad8b4677d',\n",
              " 'd14e4a31-e4db-4dc3-bcfa-2a46ea2ed0eb',\n",
              " 'e69671f2-194f-4366-a792-c879ce610b73',\n",
              " '03d2fa4f-24b0-4f9a-b1c8-7f80aaa86f42',\n",
              " 'c0b6a8fb-09cd-4c1c-ae79-a488332608a6',\n",
              " 'e3a702eb-c8cb-4ca3-a9ce-be5bd7a3e853',\n",
              " 'e2a2475c-6261-4ded-8f86-2cbbc6038412',\n",
              " '633956b8-7a48-45eb-9646-2050dc0ec2ef',\n",
              " 'bf2563dd-733b-4e86-84d9-2edea40821bb',\n",
              " '0b589713-401a-4521-8f3f-b2a47748316e',\n",
              " '97be90bd-ad06-4063-b001-8c2dc743b21a',\n",
              " '2ea79419-627e-40cc-96fb-3374219b6d48',\n",
              " 'd7cdcf60-a4f1-4c61-8f3e-b450c0faa671',\n",
              " 'e8ba3d38-31a3-4fb9-b537-309846581f32',\n",
              " 'ddd6168f-0c85-4b48-8278-9ba635b1cf80',\n",
              " '2d5c752c-55d8-4cfd-8499-4cfca201b189',\n",
              " 'feebcd17-8382-47f0-aa5f-cc5e98b805bf',\n",
              " '506335a3-81e3-4211-aca0-1fed1b12757c',\n",
              " '88b54a32-57c6-4151-bb7a-5c6981a778fb',\n",
              " '696c53c4-2441-41ea-8c95-52c8e154a46d',\n",
              " '4813bb7f-2f83-4512-9bf6-43ff74c90757',\n",
              " 'a5ea5ade-7613-4b7c-b445-c994c3ceab56',\n",
              " '4c1520e6-c9ea-4dca-8446-1a62709d285f',\n",
              " '0f4b2c12-ef4e-4e13-91ab-319e5877cd33',\n",
              " '95a9f6a9-8a15-47cf-b504-1a125afc16e3',\n",
              " '2daea24f-009c-4dea-a22e-beedd45f3e11',\n",
              " '72994ff0-6c6c-44e0-91a6-68fbc773e3b7',\n",
              " 'c500caa4-32fc-4989-b6e0-6058bd561ac6',\n",
              " '46034c0f-ea4a-427d-89dd-276d09f42904',\n",
              " 'e3a91fd7-2a12-4512-ba80-a09b9e425b54',\n",
              " 'b14df1ca-9102-4693-b947-63e8927f37e4',\n",
              " '645b7998-d4ff-4906-b229-85fcf5dd44a3',\n",
              " '57eb7454-d37b-4d51-9d92-d8f4e8949531',\n",
              " '9d93f3fc-47fb-4b57-b9a9-798f30defcb4',\n",
              " '8310a4f0-3ddf-4798-b92b-f9c31610e424',\n",
              " '77fdbd7a-a181-497f-b3d7-835fafdff9a8',\n",
              " '9cffe53d-89c8-4816-a487-d5757d91d8ee',\n",
              " 'c7f8f825-4633-4fcc-a447-fe80bb432746',\n",
              " 'd3300d6c-2b06-4916-8ab4-c14f3c536507',\n",
              " '4ec043b5-ef8b-4fa9-ba4d-380634bf7870',\n",
              " 'f73485ee-2bc5-4a22-bc14-4816b98ecabe',\n",
              " '6e9115ba-1b73-4eab-a46d-58686ce9e6c4',\n",
              " 'b5a358b2-4517-4b82-9cc4-b881a8f9c0de',\n",
              " '8652bf01-98bc-43f8-b84c-b53dd51955c1',\n",
              " '74829fd1-08b4-4762-b744-101002875637',\n",
              " '88aada2c-1a49-4fdd-abea-02bc570857bb',\n",
              " 'b59f6710-26d0-42d4-8a1d-641693e9e446',\n",
              " '7205e9d5-ead5-4691-b027-bd4ad64653ab',\n",
              " 'a74556b2-008e-4da2-9d97-4dff14c52fbb',\n",
              " '7925a5d5-385f-4a7b-b045-5156489e33ab',\n",
              " '6b44afe4-f206-4d55-925f-fda6342f3a0b',\n",
              " '4a8df42b-e8c1-49a3-b3bd-a773b0a7fd13',\n",
              " '626650e0-c39f-48d3-81de-ba614048eb1f',\n",
              " '3928f635-8856-44eb-a715-69998e52b365',\n",
              " 'bb6af5bc-7d4a-49e4-903f-7645970b7129',\n",
              " 'e5eefa82-fc58-42a7-9ec6-da1895bce5b1',\n",
              " '6d5c67c6-f281-4191-a609-5a8566a72bb2',\n",
              " '19b0e5ed-d4d8-46d0-956a-33db25b02f4f',\n",
              " '7c8064fa-f730-4250-bd4e-77161cc6ac18',\n",
              " '698fd5bb-6245-44f4-9f27-bca46821cf96',\n",
              " '704aa6bc-a7ef-4bc8-abdd-9e16b53d9aa1',\n",
              " '81304c9e-59b1-4168-8b16-c490dd703a6c',\n",
              " '8a39720e-3120-44c9-b9ac-38c727b3431c',\n",
              " '57bdff57-083b-4f6c-88df-bccc40dbaa87',\n",
              " '8944f975-0b96-4bed-88ec-be9f3a918654',\n",
              " '3728d547-ff3f-4f0a-a9c1-a873f5c6aa49',\n",
              " '813e91de-8d48-4d8d-891c-5ad53dfe331f',\n",
              " '8e78c628-26b4-4a5a-a187-31a9c5c42600',\n",
              " '018744d8-dbe2-42bf-955a-c8656fa83720',\n",
              " '93131132-340e-45eb-945d-55d99e5d22c6',\n",
              " '2884cfe3-a49f-443f-a86a-24e1bd9960f2',\n",
              " '810decef-61fb-4cae-840c-fbdec525545a',\n",
              " '795bef7b-f6d7-4842-9713-39b8215afbbe',\n",
              " '404e7521-ad78-48bd-aa5a-2f5dcb82640d',\n",
              " '6854ad0f-2b64-4977-baf0-effd17fd04c3',\n",
              " '453e82c9-b1d3-4a1f-9d22-04f8cf653b97',\n",
              " '27c5abb1-ddd8-4683-add1-8e0afe1ea53c',\n",
              " 'ad7defd2-d116-457b-b1b2-4cc693b875bf',\n",
              " '225937ff-098b-4a74-ad89-bba46ec80881',\n",
              " '92ce989d-80ee-447d-8edc-fa9c98648f8d',\n",
              " 'cb39a644-def5-48be-8298-f92ce1e7d630',\n",
              " '67319e7f-a53f-431b-a44c-5321026e6004',\n",
              " 'c7ab5c7a-f12e-406b-a91e-d683179db1a0',\n",
              " '182e73b1-c772-4826-8fe8-3c1cb3738af5',\n",
              " '02ec3ace-d647-495b-8ac5-31fe085694f6',\n",
              " 'ac21a4e1-b76c-49f1-a3d1-0e2406872ad2',\n",
              " '02257165-4de5-4f4e-a8e3-a55053809762',\n",
              " '3d9cda9c-cef5-4ab9-8039-791f0146717a',\n",
              " '009a52d3-cdd9-46ad-9f89-7192d0685f63',\n",
              " '3593af1e-3003-4401-a444-a8a577f507ae',\n",
              " 'e4029ec8-cbaa-4cf1-bd6f-1a0f577647a8',\n",
              " '16a887d5-c985-4f18-841a-c9b99c3b84f5',\n",
              " 'fee51a21-8533-46c9-ae7d-b0302a72d689',\n",
              " 'cbff7ec5-b387-4bfb-8e03-d469b0e16b6b',\n",
              " '542cc6bc-c10e-4e19-b95f-6a40783f335b',\n",
              " '2b1f7c27-dae3-4eab-b148-c0a4a21e5ee4',\n",
              " '016bdb03-2467-44e4-91aa-25786672131b',\n",
              " '593c76fe-a9c6-4974-81d3-c6eaddf7b954',\n",
              " 'b4c00ced-f51b-4b73-b83e-782a2bfb9182',\n",
              " '79e450a1-4114-4256-9148-af8e752e6508',\n",
              " '48d15961-2976-44c2-8219-79770765e8d4',\n",
              " 'a443fcdd-ffa8-4e08-a8f9-83f0a3aa6e40',\n",
              " '5f0b3236-d7e9-45e0-93c1-950e9aeb25c2',\n",
              " 'b22646a2-af9d-47f3-a038-6213e464aaa6',\n",
              " '095f1f33-d879-414c-ab48-11bedd6b1d4b',\n",
              " '2094d52a-4195-4601-93b0-16d42b204edb',\n",
              " '4463cbf4-56d1-4c0c-a1ff-6671616e427e',\n",
              " '882cbe69-9784-4ec2-8f69-a233cd3a436b',\n",
              " 'fa4b886e-0977-4ec7-a69f-5c776766e7ea',\n",
              " '72358b49-9bfc-4080-ae69-c14a145b779a',\n",
              " '02a7a3e4-915b-4503-a217-4cd0e0f781b6',\n",
              " 'f32e72e5-7468-4647-bd22-4a838c065ae2',\n",
              " '9fecbade-563b-4d44-a732-715356bab87e',\n",
              " 'f84b4151-233b-4b69-8ed2-18f2aadbe37c',\n",
              " 'cbd381e6-c8f5-4a42-8452-a9365f8fb5e5',\n",
              " '1ac142d5-d309-44ca-aa3c-1b202b294157',\n",
              " '6f96fbaa-e53b-4d41-9c2b-bf43ceef75ab',\n",
              " 'e5e10205-9a43-48a6-b317-2e80a18a83f9',\n",
              " 'fefa7abf-b954-4747-ad8f-6f28b487835f',\n",
              " 'c0fb9ede-c84c-414b-a9ac-81ce8ec663d1',\n",
              " 'bf7eb84a-0771-4fa9-be7c-65cd038db3fc',\n",
              " 'f3225964-addf-4b04-9055-8cf157603a3e',\n",
              " 'b9a313e0-ed21-4164-af40-84870367b80c',\n",
              " 'f4e0dc4d-1d2e-4989-9fc8-adb9cdfd9cbc',\n",
              " '7948ce6d-1fb0-47fd-bd0e-186337ee561b',\n",
              " '8b81a41e-df73-42cf-9050-5d09fa965465',\n",
              " 'a81f0d4c-02e1-4717-9c06-5c435f280d34',\n",
              " '41c8bfac-56c4-4fed-981a-4c0076380185',\n",
              " '9c199e1c-77d0-4b4d-bede-4566d9d5e2bc',\n",
              " 'ee508adc-09e1-4813-b171-934ae1d6c2d2',\n",
              " 'df6675b5-78c8-458f-8df5-877a797eec31',\n",
              " 'c870efaa-b85b-4090-80e4-ca86789912e3',\n",
              " '473374d8-3e19-43bd-95cf-c3516fedf8f4',\n",
              " '0c08bec4-99d6-495e-ae94-9d94b14ac15f',\n",
              " '51dfdd66-0204-48d0-8805-2631ea6b8aaa',\n",
              " '95ffcc6c-ddfd-4c66-b5a0-53bc6e8343b7',\n",
              " '7d6f8c80-4866-4b72-9a63-c25084278302',\n",
              " '080e6fae-e35f-44cd-9290-287acb4d57da',\n",
              " '1c15e518-386a-4b36-9f12-ee1dc9dd16e3',\n",
              " 'ce811f91-44ed-4aaa-bab0-9d2bfb2a3873',\n",
              " 'a9ae7611-cb5d-4c80-9089-ea44183df4e2',\n",
              " 'fe98cb4a-486f-4dc2-9bd5-e1b9bbaeb6ee',\n",
              " 'cc1f3aab-32a4-454a-94c9-ebc6cdd4caab',\n",
              " '60a3672f-507b-469b-8240-095571c85901',\n",
              " '9d199fc9-87b3-4161-a9ac-e0e4154c660f',\n",
              " '412452da-dbde-430c-9d92-a8db282d3bab',\n",
              " 'c1615be1-1b30-46b8-b29e-4d340d9539ad',\n",
              " '27df4557-7e2b-4596-be9c-f2fe0e988cd4',\n",
              " '798ed537-95aa-402c-b6c3-7749ee20ebc3',\n",
              " '9b557a79-6acb-4059-9464-e034929f8d41',\n",
              " '8bd04f7c-ac66-42fe-85e9-b77acebc2b02',\n",
              " '1955e3e1-75f9-4467-baed-8bf0473aa113',\n",
              " '00c5174b-3b9f-4439-bbaa-8a052821f205',\n",
              " 'e7e7d060-c459-40d8-895f-158e26585565',\n",
              " '32a2d70f-7e16-4213-bedb-3b24a5852656',\n",
              " 'd2dbd67f-a84c-4ba1-9e3c-445d43d45e72',\n",
              " '90cf59f4-659b-430a-bb03-55152d4d8919',\n",
              " 'f0aecaa0-a1e2-4ee6-98c5-10cf59802238',\n",
              " '2a5bbad0-a0fb-4d0e-b604-c294c29ba928',\n",
              " '970b3311-91f5-4025-a597-b2fc280cbca6',\n",
              " 'd906df74-e197-49b7-9f7f-144d023fc3e2',\n",
              " 'ac88296e-7c36-4ccf-ba96-82b596aac0a7',\n",
              " '893af7b9-4047-4e37-b059-17ec0de92a9c',\n",
              " 'e9b013de-668f-4900-ba24-7b66c5837346',\n",
              " 'b111ed4e-4d4e-4631-b033-edc0eeb60ec1',\n",
              " '6ee873d8-51b1-432d-bf12-12c1f1c19d47',\n",
              " 'f0417b07-853f-4483-b6ab-f1f22c5283d2',\n",
              " '44dfd661-2f60-41da-a2e1-e5ee563edeea',\n",
              " '6057a9f3-ac80-48d2-983d-1fe6310da30a',\n",
              " '91803b1d-737c-48f1-a82e-cea1e12d7cf2',\n",
              " 'b7ee203e-9c94-4bb3-bf21-44ebfebc4483',\n",
              " 'c192c11e-bf64-4dcb-bf7f-d45bec9bface',\n",
              " '58bd7c59-6eef-415e-ab3b-7f43d976b6a1',\n",
              " '843ab728-ff3d-41e8-b393-786cd5af6f9d',\n",
              " 'ec8748fd-3705-4af5-8b8b-ec4e9e236490',\n",
              " 'fbc3cd7a-1023-4ec5-9f62-11ca08b327b6',\n",
              " 'dc619fdb-22d4-498b-b172-c35f5b42a2c7',\n",
              " 'c61bd6a8-1ce7-4e79-a9d7-af6ab6c83f5a',\n",
              " '14cd5e44-854c-4219-b0ef-f20558633819',\n",
              " 'c414da39-26e5-4f39-8c11-d293af872ffc',\n",
              " '606ab711-cfa5-4522-aca9-39226f78575e',\n",
              " 'eee229e0-e74d-4539-9c62-0988b41df249',\n",
              " 'd94222b2-8a82-46d9-a1c4-132b32effe23',\n",
              " 'd888f475-11aa-41c3-97a6-1f8b6582b903',\n",
              " '77c77e8a-3e95-42d0-bbb5-e479b17962d5',\n",
              " '2ba75cb6-4344-4b82-ba36-066c082b5cc4',\n",
              " '611db7e6-84fe-4185-8b17-03c284820b20',\n",
              " 'd8c859ff-67d1-446b-b4c8-2bbee69573fe',\n",
              " '3ca7a989-6939-4d00-8f4a-4f8f1768c9e9',\n",
              " '8165d334-838d-4b2a-8791-82c421119c45',\n",
              " '9e78069c-26eb-4c78-aef1-25b8918aa6a9',\n",
              " '76d53b84-c252-4892-a7d7-b0722a822a41',\n",
              " '7264acf2-5688-4e4f-91ae-16c48879eec4',\n",
              " 'de9b3bc6-6f7c-486f-809f-5c1b817c50b5',\n",
              " '844c52f0-3e53-4441-8acd-98bc0af6c20e',\n",
              " '926b406b-8f3d-4ef3-aafe-4f3538ba62a0',\n",
              " '0b8a01de-8447-4e03-9972-43e31b34747a',\n",
              " '563b495e-8ace-43a5-b535-a5deb586677b',\n",
              " '9129ab6e-7368-4779-baca-8636d52c2856',\n",
              " 'ac42205a-944e-4950-97ad-573e7eaf6efb',\n",
              " 'bda52ae5-f4df-4831-8289-d1632019cb26',\n",
              " 'c62cdce6-71a6-4e99-b0fb-c195993b3bb8',\n",
              " '75e67aee-fdb9-4e26-8f3d-ede99d2f80c4',\n",
              " '47f47b4d-98c1-4d7f-a1d3-58af7da08476',\n",
              " '6489f0d7-9da5-4add-a4b8-fdf8c12729d8',\n",
              " '034987aa-acb6-46e2-bc0d-7e6b3eaf5fad',\n",
              " '273f5803-eef8-4927-855c-262204f60660',\n",
              " 'cf7031b2-735b-4580-842a-a596f99cabad',\n",
              " 'ec82046b-107d-4aa5-97db-c4df45033a9b',\n",
              " '8f5534f4-2ef9-416b-a973-cf74033489b5',\n",
              " 'bcb91bd9-6183-43d2-ba0b-9e081f47f283',\n",
              " '9717d1d5-05cb-44f2-99be-ad4b5aec15f5',\n",
              " '86085cb7-5038-4c9f-a804-d4e282bbc9b0',\n",
              " '44792ca4-4ac5-47cb-a333-2d07fd2678e4',\n",
              " 'c993585b-37ee-470e-baf4-cfe009a50f46',\n",
              " '34e7c738-727f-41b9-928c-530b95428540',\n",
              " 'ddabbce9-9d43-44c9-8e51-9dda8b82958b',\n",
              " '25c45efd-8857-4baa-8b16-21122a792716',\n",
              " '488e9982-6ed4-43d4-8483-972981d6793c',\n",
              " 'a79e4933-73e5-455a-8412-00140a9be446',\n",
              " 'a54ddb18-bffd-401a-992a-3f984381a0a5',\n",
              " 'a73729cd-ad41-44af-b0b1-a12cae5c3b6d',\n",
              " 'e29c0d3b-5059-47b9-8449-471c6a798b0c',\n",
              " 'e538df28-c53c-4f77-a9a4-63fa48019d4a',\n",
              " 'e6febaba-80f5-4e42-bcf7-9f1c907d83f3',\n",
              " 'bd5a1f68-fd3f-4169-b715-8f57415e1a10',\n",
              " '4c5a9c79-0cc0-459d-9a16-368a4dd9f5b1',\n",
              " 'fe53de6b-0ab4-425c-919e-c195f23c034c',\n",
              " '81c537d1-fb33-4d26-87ad-de49d51d0593',\n",
              " '1b701554-cbe0-4e00-b847-08ef67ad71ec',\n",
              " '9e0db3e8-1d07-47c0-bd47-4aa082c88f3c',\n",
              " 'd6f41604-b13c-40f7-b9a9-ef856decab99',\n",
              " '043850dd-96e8-4741-bad2-980c7a03bb5a',\n",
              " '08fd1c31-8d7d-4867-9bbc-21ed72e09355',\n",
              " '5d0e536c-abf6-40e0-81ab-9adfc93beb2f',\n",
              " 'cc96fc54-1d3c-4199-aca9-e0d11ca17eaa',\n",
              " 'e83174ad-9b99-4ccb-8547-387fe066aedc',\n",
              " 'd20acd48-c16c-4c4f-adb9-9054bba16aa3',\n",
              " 'ef7b6f24-eaf2-45f9-909d-f2daa1fa50f3',\n",
              " 'b288bb75-10d4-4247-b2d0-8ac42aae6a81',\n",
              " '4d0d29c1-d3b9-4edb-9388-44f359adb685',\n",
              " 'cf36f767-0628-472e-99a3-b160f4bf7504',\n",
              " '4219a970-f1ab-4c93-ae69-5fe10448f692',\n",
              " 'c0b34ddd-f3a1-4475-ab31-fc419745809c',\n",
              " '6143485c-b31a-486a-a57c-cc05d867bb85',\n",
              " 'fae7a3c1-ad56-40f5-9f3e-13a001f9e78f',\n",
              " '7bc4d864-1bdf-4392-a0c3-c6a1ec969599',\n",
              " '97ebeb11-a2de-4d53-974d-e84f7875ed75',\n",
              " '75c85179-dfcd-4a77-b764-0d6e9a144b26',\n",
              " '21e8c131-ff3e-4378-99e6-7d7378f41c2d',\n",
              " '831af3ec-d118-4a51-934b-c52c467f59fe',\n",
              " '3d133b34-2494-48fa-a1cb-93219f5bdbfb',\n",
              " '16c1010d-5776-49da-97c4-cfb061ebfb22',\n",
              " '7f41cc50-8a47-494a-9bf1-c53004331f3d',\n",
              " '4b2a5806-8136-439c-a5e9-ebbf0b53e8da',\n",
              " 'f72fba2e-359d-461e-8f66-9c3ead2df934',\n",
              " 'e1baaae2-9e87-4b65-8ed6-509e91edf04f',\n",
              " 'b62e370b-6ec3-4f0f-9975-c0d21a5ce0de',\n",
              " 'a9291b10-3bd7-4e6c-97b4-953474a2d2f3',\n",
              " 'e553467e-6c9b-4a0a-9e98-eab8c2e2f065',\n",
              " 'd3fbc379-96e2-4727-96c1-f7328f945441',\n",
              " '57c043a7-69e8-4c0c-b816-a8372b49892c',\n",
              " '9d65d88e-7de0-443f-b35a-a8f6a1f5108b',\n",
              " '33392094-cf9a-4870-9aed-0e3128592ed3',\n",
              " '8796a88f-dde7-4c87-8f15-8f01f92d3c1d',\n",
              " '13dc07b0-f158-4bdd-99a8-fcf337349b32',\n",
              " '418a3c63-82d8-4a26-ab40-048888fb77cc',\n",
              " 'facdd457-be80-40ce-a9d6-7ad386744b6b',\n",
              " '6a6b878b-1f20-421b-b3e0-08739f67129c',\n",
              " '870fc852-44d5-46a9-bdc8-c906aa9ad173',\n",
              " 'f4548472-eed1-4202-a0ea-007c5e976459',\n",
              " '0377b0ed-3d22-4675-a772-117460b218de',\n",
              " '7525d5bb-26a0-4a0b-a92b-0737914ac019',\n",
              " '31c0497a-fe87-49f0-b05a-38a5b7a73f31',\n",
              " '06523a30-6214-4446-87f6-1710c528a0de',\n",
              " '58caf5ff-2532-47da-b2de-8310cca533ac',\n",
              " '3ed76b91-7b68-40e0-b318-3f93fc1ad38d',\n",
              " 'd519d4b3-93e2-4232-b898-c50213692b1a',\n",
              " '3bd383fa-0b4d-4199-b6d6-c21b65b564ed',\n",
              " 'd7e7b08c-fc1c-4121-9671-a002f65cb24c',\n",
              " '2c7f57d4-0a56-47a4-8e8c-9e4fd59a4194',\n",
              " 'a7e11002-0de0-4457-9d71-cbce60f6fe84',\n",
              " '94761e0f-29de-498f-8230-404bbaae99e9',\n",
              " 'e9f31b34-e7cb-4bda-9a35-861972443290',\n",
              " '89b32e30-575a-4b4e-b86e-70bc75e5a7a1',\n",
              " '9266ca8c-843c-43ee-858b-8c01ec802567',\n",
              " '6b4dc555-8601-4aa6-8272-76972d6e587d',\n",
              " '6b55786c-e01c-4213-a459-b81c567974f1',\n",
              " '51d65261-e832-4b15-894b-caa1c37f5926',\n",
              " '140a8ccd-5b67-47ee-872a-0a188e46ee5f',\n",
              " '2e57cdba-65ff-4363-8ec5-ee72dabc6dff',\n",
              " '74f6eac6-5ef3-4415-bd9e-b67de6ad41e8',\n",
              " 'ce23e85c-a68f-495a-8f38-b66577d43ca9',\n",
              " '5b68d3a7-ab90-4b6b-88e1-1d4a9f1d2e20',\n",
              " 'dceb83de-b52f-403f-adbd-d514b164243d',\n",
              " '2e10d30b-de2d-4b9c-9b50-72f3d7746982',\n",
              " '1090e6c2-3ac2-4294-b7ec-ba7cb26a05f6',\n",
              " 'c555595d-c1b0-490b-b190-c3f1fe794ec9',\n",
              " '91fccbf0-7651-4900-a453-46872bed89e8',\n",
              " '279f9a9b-43ae-4211-82a4-fc655feb9318',\n",
              " '90673462-4bb5-483d-9e15-59813e6fe099',\n",
              " 'ab8a65a6-9da0-41d2-8c58-5532a8ca8abc',\n",
              " '6f68d198-57fa-4c73-8623-b8935e33e336',\n",
              " '7945eb32-727b-4121-84f1-31deb1f6c916',\n",
              " '2cba7a6e-53f7-4d28-9699-a002e2b9cc22',\n",
              " '85e987e1-b717-4c63-a2bf-b4cc0fbb1e1a',\n",
              " 'e2e133d3-7077-48a5-a833-08b04d75cbec',\n",
              " '04500e6d-60a4-458b-89e5-04a830beecdc',\n",
              " '3883034d-3c2c-45dd-937f-b61825a5c22f',\n",
              " '5c158fa3-7f48-4336-938f-fba6c1be206d',\n",
              " '48e12997-079c-46ad-904e-92e11df2d4cf',\n",
              " '5697f2da-3b21-4c67-8f8d-47dd77674466',\n",
              " '373db94b-9730-472c-89f4-2062b1ed2845',\n",
              " 'ca845bc7-654e-460c-905c-a9006c228d13',\n",
              " 'bc7fffcd-cf09-4e23-9f63-86f65e8ebe4b',\n",
              " '1d194dc6-3140-4421-9152-05fdc6f11770',\n",
              " '5f030686-59a3-4828-9503-7deceb3ccad4',\n",
              " '57cfb60e-0565-40f3-a8e4-2087210aa60e',\n",
              " '717fbd0c-2b61-4789-8d16-c36214f50875',\n",
              " '17ff8ea8-b30e-429a-931c-a83a16a253c9',\n",
              " '42e03bba-929c-460b-8009-15899e01e721',\n",
              " 'a2289ec4-36bb-493c-b840-8b41b4008dcb',\n",
              " '923706ed-a988-459d-aa69-0f917a8b7810',\n",
              " '4f533da9-5f1e-40de-b47a-5dcc9d8e3b79',\n",
              " '7aaaa610-d68a-4273-96b8-b711c6ffdf63',\n",
              " 'c70d9935-d3a2-456a-8518-8e429d18fc75',\n",
              " '3a2322b2-e674-44bd-b33f-31b03e116c54',\n",
              " '2bba481a-a46f-48a4-9ab5-ec66ecc1b1b7',\n",
              " '66d71bce-a37b-4f6a-b9f1-bf058df25a28',\n",
              " '40ad029f-51e7-413c-94de-957daf14e9ad',\n",
              " '107056c4-35ca-405c-bf4b-ce9057a2dba4',\n",
              " '29720bd4-b75a-42d1-9a86-328fb3e7f40b',\n",
              " '98982086-6384-4a95-aafa-704c301b2646',\n",
              " '64c44c69-0400-4fe2-920d-59172f59a1f2',\n",
              " '829d7831-1aab-4db9-8d76-e44145e220cd',\n",
              " 'd76d1fde-c384-4b78-9338-83a90852a028',\n",
              " '3d5b9a89-6824-4d00-9634-e9a23c40d39f',\n",
              " 'c4ad080e-07fa-4541-ab8c-b06ed1fbc5b8',\n",
              " 'ee3d9d57-3313-4bbb-92a7-f27d82f796fd',\n",
              " '0ff8c300-b9e0-4a99-9af1-dd517bdfd5e9',\n",
              " 'd11dd57c-662e-4a43-b2b5-5c26f68e0362',\n",
              " '3a2523bc-7802-437a-9d9f-522e9b0ec957',\n",
              " '03ab57a3-f7a9-403c-a8b8-c6a5672e230d',\n",
              " 'b27bd535-4b68-4442-9f60-a0e71308eecb',\n",
              " '29e8cd0d-da8b-4c83-9e11-c444752d2422',\n",
              " '6b32d9df-ad28-4d2c-84a8-5531404f7c1c',\n",
              " 'ab92859f-61ac-4e3d-8769-13eceaa7fdb9',\n",
              " '740965a6-92a5-4785-b526-efc768725892',\n",
              " '2a9da472-4962-4c3c-8b2e-c8a10c87f6d2',\n",
              " '3a25431b-273d-42e1-b24b-b54ca6c23d05',\n",
              " 'a6fbb0c2-9add-4d2f-a6df-c85359523a5a',\n",
              " '3418932f-63ff-4880-8604-5847969dd076',\n",
              " '4a01af19-2104-40f4-b107-9a7d0bd2ff00',\n",
              " '09fda653-5af6-4f16-9f88-412f685c77fd',\n",
              " '9a2bb78f-33d6-4553-bc3a-378fea8e3f5c',\n",
              " 'fce52de5-9948-4654-a97b-d551df68b836',\n",
              " 'f4b72af8-72c6-4492-a755-46791b612815',\n",
              " '08324a94-cf87-4dfe-b81a-ad4fe2b8dfa9',\n",
              " 'b5d824f3-9ee6-4d9d-8a67-00c39b39d4ed',\n",
              " '7c658db1-e002-4e74-ba0f-40f60114ca2d',\n",
              " 'bae91d17-5662-4975-8bf3-dbdf7ad3cf8d',\n",
              " 'a32070fb-0dd5-4515-9ec9-4851c5c5a51d',\n",
              " '307b7e19-5e19-4430-a0fc-4f069259ae4b',\n",
              " '2a09d42e-7f6f-4982-bdc7-e7c38401e5a1',\n",
              " 'bffc8bbd-0a1f-4b58-97d6-320b6085c3b2',\n",
              " '4884c1ac-1ffe-4de7-994a-7d1d2f42445f',\n",
              " '4ee5327f-c4a9-40ef-a34e-c2fa1418bc99',\n",
              " 'f1e8f600-8d44-4b99-a5ae-8dde64af664b',\n",
              " '041820ed-41f6-4ee5-9f6a-494e0e7f7268',\n",
              " '725ef960-7f6d-4982-9499-49ce42491c33',\n",
              " 'df964a5c-d1a5-4fd0-98d0-230ab0f3f7a0',\n",
              " '2682dacf-92a7-4058-943d-4296f9b64215',\n",
              " '6653c26e-840a-4daa-9040-99ce86fc5c4e',\n",
              " '4f6bf8f7-56c4-4539-87c0-f8c934ebc580',\n",
              " '7267fb5e-e0bb-4f8f-8ba9-5575a3c05263',\n",
              " '996c955e-3adf-4706-90d6-11df950b948a',\n",
              " '636d244c-d811-4284-a838-3a592a5e1de8',\n",
              " 'efe1029b-8146-472e-a2b2-7bd3fd668d49',\n",
              " 'd6a9a39d-2f43-4cd5-8fcc-c12d531de697',\n",
              " 'ad2cc50b-ba68-4fff-8097-1e1b77d7714c',\n",
              " 'a211236e-91f9-4aca-8b2e-5f0958efe86d',\n",
              " 'b7bdc3d5-c94c-49cf-bce8-2ace6ac81127',\n",
              " '211318ba-0f74-42f5-bae3-ccf7e3f190a7',\n",
              " '201b0433-885d-4ecc-b447-bf89b289953b',\n",
              " 'e73f2e38-dd29-49fe-b635-bae9d99f0297',\n",
              " '2fb0e7ec-c132-4ffc-be06-44113770935a',\n",
              " '016e2822-6d56-48bc-991a-ff828dafc03d',\n",
              " 'ad51837a-7366-4a18-8fc9-c059a6df4d38',\n",
              " '82027c31-f435-4d2a-9a46-61e5e3d87a33',\n",
              " '913adcc1-2b45-4137-9e02-0a6e448d2bd4',\n",
              " '1f7fe7d5-ebc4-42d3-90ba-15c5b0ce81a9',\n",
              " '6a3b62d1-c754-4962-a18b-b6b904373f84',\n",
              " 'b11f035d-6b25-403d-a317-4ecbe4112cb9',\n",
              " '8c5b4662-b591-4f92-b7d6-a4723c67e8ec',\n",
              " '0399d293-50a8-4227-af32-bea77effc79e',\n",
              " '086dbe6a-64e9-4770-bfea-6e1c060ab1f1',\n",
              " 'a3e0295a-ebbd-4e9c-bd7a-b11f4a03f023',\n",
              " 'fbb7326e-bbb3-4547-919f-75ecf7c67b93',\n",
              " '8146c4c9-23b9-4311-b6fe-422f3e4838fd',\n",
              " 'f1665b09-f8a3-4a08-a671-df697817e7b3',\n",
              " '67b5fb5f-6a2f-4d53-bb39-a3f47f567a22',\n",
              " '9f19c2ea-efd2-4771-8b55-56097c1052c4',\n",
              " '6d30f4bf-3c34-48af-8de1-786dff50e132',\n",
              " '703f3e8b-6f79-4432-aa04-e7abf30211ec',\n",
              " '6aa6969d-b8ef-42e9-8676-b7bd87000b87',\n",
              " '230ffda7-567a-48d4-84b3-9f31c743da48',\n",
              " '99726d5f-3fdf-4733-9f0f-1c9764aabe54',\n",
              " '7805c6d5-598b-4cf6-9b43-5f6aa76c19fa',\n",
              " '5e069e23-0db9-4ac8-a1ba-8ec2b9861fe7',\n",
              " 'a79ab4da-eeb0-4a9a-b338-e3ec7b88f616',\n",
              " '835ea3fd-b639-4c51-a1b5-eca78c7e7fea',\n",
              " 'fbb245bd-939e-4df2-9437-a39e91053e9e',\n",
              " 'fbaeb7d7-8895-46d5-87d3-b6922df8d914',\n",
              " '96843ed2-9798-49e9-ba75-cc6ef56db2cf',\n",
              " '888537bd-11ae-43af-b577-cc5ff935dfeb',\n",
              " 'b8914441-a910-468f-a7d0-26a373e8d389',\n",
              " 'a9e21b40-813f-417e-8cfa-1140de239c73',\n",
              " '6121fa3b-d537-4728-8987-5eb92bb5584b',\n",
              " 'd41e792b-94b1-465b-a9eb-a52d38f59b4a',\n",
              " '7e6797bc-28bf-4aa9-9924-594f3c6e5ecd',\n",
              " '308af82a-87bc-4963-9a6c-bc4c66f5ff82',\n",
              " '6bc42630-0c5e-40f3-b570-d3f736355d48',\n",
              " 'a1a31021-2ef7-4843-97f8-c413231f256c',\n",
              " '7e70e5dc-8e74-4c4c-beab-e85a643ba45e',\n",
              " 'a45ab4e7-8231-4eb1-a124-9d157491a157',\n",
              " 'f03bd7aa-325c-425f-97dd-960f02817692',\n",
              " 'bd1e6bad-3a90-4b11-be54-b02978f101f7',\n",
              " '472c9d00-9b63-4708-a9f6-3fa7f49c0aad',\n",
              " 'bda47152-5b13-4821-bc9c-fda62c49a634',\n",
              " 'cd3df78b-48ab-4b88-8507-60b74fb1900a',\n",
              " '5e28ce08-7429-41bc-8d59-15d54b222ca1',\n",
              " '3c6d3f7c-68a6-4552-bfbe-e72308092592',\n",
              " 'f8a03e45-9da9-487a-86be-3f5952e97d99',\n",
              " 'f6da7779-fb8b-4986-926a-52e75052b379',\n",
              " '45ac1bd9-7933-497f-b324-23170828f46c',\n",
              " 'a8141633-e30b-4ba9-b453-f5e241f6e8cc',\n",
              " '7a3eb155-eb15-425f-aa61-bbe7859030e2',\n",
              " 'bccbf6e8-e726-4621-8014-1c5f589e3806',\n",
              " '2df7b85d-6a94-44bc-89b5-ce98c4b8017b',\n",
              " '4a7135dd-1cc7-48e5-ac6c-c35d898577e5',\n",
              " 'cc58b8ca-2c9f-4b1a-b733-c9b44821b2c0',\n",
              " 'cb6e5474-79a9-4f46-919e-a02dfc503cc7',\n",
              " 'b85dbcf5-ae41-408e-a16d-9f15147b0463',\n",
              " 'c13981e5-bbb0-409b-a977-a035aa003a1d',\n",
              " '0f783394-0855-4355-8193-baf8cf4f1281',\n",
              " 'f8280d93-c9f9-478d-a0f2-7f409cbac5a3',\n",
              " 'b95b2a11-d45c-497e-ad9a-b032ec4043d2',\n",
              " '1f02f675-0ec8-44bf-95de-021e9752ef1e',\n",
              " '9347dd16-f6af-4cc2-a980-c7727581edf7',\n",
              " '799fc2b9-5f0b-4cc3-b1bd-a2f9b4fa941f',\n",
              " 'a654aaa9-e67d-4d56-a38c-9828de251929',\n",
              " '3f2dc439-140a-4ddf-ad33-0dfe784eacd1',\n",
              " 'b68df700-208f-4401-ba88-a8057708919a',\n",
              " '7ada3ee1-079e-4a09-8907-6497d01019d3',\n",
              " '6c687ae9-bb81-48f4-abfa-b69d5c4217a6',\n",
              " 'f9e7161c-753d-46a1-a011-5a407a2d8249',\n",
              " '2744c283-a56b-4a11-9c22-2ef0fee4f58f',\n",
              " 'e9c4463b-a5b7-4a75-a93c-002a663ca56c',\n",
              " 'ce3d9264-c173-4fa5-9752-5cb16fda41de',\n",
              " '527d411a-5ae2-4969-b941-d2a86b023afa',\n",
              " 'eb103761-7f68-4a6b-b131-b7df2389acdd',\n",
              " 'fea423a3-beaf-4c1f-81fd-495e6cf6da67',\n",
              " '7ce63304-e338-4be3-93bd-1c98c53f666c',\n",
              " '44ca19d1-02a5-43a9-867b-6a3494fb32e5',\n",
              " '46b2682a-3fba-4914-9978-587be8270899',\n",
              " '353ec599-3e39-4c18-a184-ff1392ae0dcf',\n",
              " '9099dc21-8398-46ef-84aa-940d7ab2eea2',\n",
              " '579b4f0c-904b-4b06-a0a9-2955751d56f4',\n",
              " '4ffee19b-b2fa-4157-932e-f010e7536c23',\n",
              " 'feb7dff9-d0ce-4c3c-a0e3-df6ef43ffa3f',\n",
              " '83abd31f-e8d6-481b-9e2d-2119d662ff9b',\n",
              " 'd7b85d28-9cd6-40cf-aa31-a1119ecb3a50',\n",
              " 'c7e12050-d0f6-4d86-a74a-097755364c87',\n",
              " '916a11b8-8b6b-4dba-8ff5-cc9ce7891031',\n",
              " '630fa5d9-2cad-44e8-9247-ffe5cd5f7072',\n",
              " 'b3b88bde-9b46-4fbf-8978-89d79ed156ae',\n",
              " '1ad2da44-e80f-42da-94cc-a15152fe52cd',\n",
              " '1ea0d626-cc56-43ab-8781-586a079c0b1a',\n",
              " '557b021e-ce84-4382-9edd-ebf974e1590b',\n",
              " 'f1ee2879-cdbc-459b-8e43-59141081d4ff',\n",
              " 'c4b97c82-78e5-48b0-ac70-2aeffd867d0e',\n",
              " '2bc8f960-675d-4181-be40-25276e3d4dd2',\n",
              " '14318261-7ae0-4d95-8c3c-ffdd3ee204de',\n",
              " '1670dd23-4b1f-4651-a4e2-82d3b0c184ad',\n",
              " '93fed4c0-90cf-4037-a249-240daadb960e',\n",
              " 'b94ebd9d-6795-41d1-a4c3-4626120b100e',\n",
              " '5c955b38-d2a3-4181-8bb9-1a12ad15cda7',\n",
              " 'd6e49606-24d6-4c82-b833-6a971eecfa0d',\n",
              " 'e1b574fd-9113-4e27-b882-8069997e99bc',\n",
              " '3c8c894c-d489-40a6-bfe7-b733dba87141']"
            ]
          },
          "metadata": {},
          "execution_count": 15
        }
      ],
      "source": [
        "# Initialize the vector store\n",
        "vector_store = await AlloyDBVectorStore.create(\n",
        "    engine,\n",
        "    table_name=TABLE_NAME,\n",
        "    embedding_service=VertexAIEmbeddings(\n",
        "        model_name=\"textembedding-gecko@latest\", project=PROJECT_ID\n",
        "    ),\n",
        ")\n",
        "\n",
        "# Add data to the vector store\n",
        "ids = [str(uuid.uuid4()) for i in range(len(docs))]\n",
        "await vector_store.aadd_documents(docs, ids=ids)"
      ]
    },
    {
      "cell_type": "markdown",
      "metadata": {
        "id": "e9ZfPaG9FGj9"
      },
      "source": [
        "### Create a user\n",
        "\n",
        "Set up the AI Platform Reasoning Engine Service Agent service account (`service-PROJECT_NUMBER@gcp-sa-aiplatform-re.iam.gserviceaccount.com`) as a database user - to log into the database, a database client - to connect to the database, and an AI Platform user - to connect to Vertex AI models."
      ]
    },
    {
      "cell_type": "code",
      "execution_count": 16,
      "metadata": {
        "id": "iH39YSf_iZle",
        "colab": {
          "base_uri": "https://localhost:8080/"
        },
        "outputId": "f6b8ca5a-90d7-44da-e9b1-488e39f0e5ac"
      },
      "outputs": [
        {
          "output_type": "stream",
          "name": "stdout",
          "text": [
            "Service identity created: service-278769704157@gcp-sa-aiplatform.iam.gserviceaccount.com\n",
            "Updated IAM policy for project [conplat-devex-test-project].\n",
            "bindings:\n",
            "- members:\n",
            "  - serviceAccount:service-278769704157@gcp-sa-aiplatform-re.iam.gserviceaccount.com\n",
            "  role: roles/alloydb.databaseUser\n",
            "- members:\n",
            "  - serviceAccount:service-278769704157@gcp-sa-alloydb.iam.gserviceaccount.com\n",
            "  role: roles/alloydb.serviceAgent\n",
            "- members:\n",
            "  - serviceAccount:service-278769704157@gcp-gae-service.iam.gserviceaccount.com\n",
            "  role: roles/appengine.serviceAgent\n",
            "- members:\n",
            "  - serviceAccount:service-278769704157@compute-system.iam.gserviceaccount.com\n",
            "  role: roles/compute.serviceAgent\n",
            "- members:\n",
            "  - serviceAccount:service-278769704157@container-engine-robot.iam.gserviceaccount.com\n",
            "  role: roles/container.serviceAgent\n",
            "- members:\n",
            "  - serviceAccount:service-278769704157@containerregistry.iam.gserviceaccount.com\n",
            "  role: roles/containerregistry.ServiceAgent\n",
            "- members:\n",
            "  - serviceAccount:278769704157@cloudservices.gserviceaccount.com\n",
            "  role: roles/editor\n",
            "- members:\n",
            "  - serviceAccount:service-278769704157@firebase-rules.iam.gserviceaccount.com\n",
            "  role: roles/firebaserules.system\n",
            "- members:\n",
            "  - serviceAccount:service-278769704157@gcp-sa-firestore.iam.gserviceaccount.com\n",
            "  role: roles/firestore.serviceAgent\n",
            "- members:\n",
            "  - group:conplat-devex@google.com\n",
            "  - user:cherilynn@google.com\n",
            "  - user:hannaassefa@google.com\n",
            "  role: roles/owner\n",
            "- members:\n",
            "  - serviceAccount:service-278769704157@gcp-sa-pubsub.iam.gserviceaccount.com\n",
            "  role: roles/pubsub.serviceAgent\n",
            "etag: BwYkwG8TjBE=\n",
            "version: 1\n",
            "Updated IAM policy for project [conplat-devex-test-project].\n",
            "bindings:\n",
            "- members:\n",
            "  - serviceAccount:service-278769704157@gcp-sa-aiplatform-re.iam.gserviceaccount.com\n",
            "  role: roles/alloydb.client\n",
            "- members:\n",
            "  - serviceAccount:service-278769704157@gcp-sa-aiplatform-re.iam.gserviceaccount.com\n",
            "  role: roles/alloydb.databaseUser\n",
            "- members:\n",
            "  - serviceAccount:service-278769704157@gcp-sa-alloydb.iam.gserviceaccount.com\n",
            "  role: roles/alloydb.serviceAgent\n",
            "- members:\n",
            "  - serviceAccount:service-278769704157@gcp-gae-service.iam.gserviceaccount.com\n",
            "  role: roles/appengine.serviceAgent\n",
            "- members:\n",
            "  - serviceAccount:service-278769704157@compute-system.iam.gserviceaccount.com\n",
            "  role: roles/compute.serviceAgent\n",
            "- members:\n",
            "  - serviceAccount:service-278769704157@container-engine-robot.iam.gserviceaccount.com\n",
            "  role: roles/container.serviceAgent\n",
            "- members:\n",
            "  - serviceAccount:service-278769704157@containerregistry.iam.gserviceaccount.com\n",
            "  role: roles/containerregistry.ServiceAgent\n",
            "- members:\n",
            "  - serviceAccount:278769704157@cloudservices.gserviceaccount.com\n",
            "  role: roles/editor\n",
            "- members:\n",
            "  - serviceAccount:service-278769704157@firebase-rules.iam.gserviceaccount.com\n",
            "  role: roles/firebaserules.system\n",
            "- members:\n",
            "  - serviceAccount:service-278769704157@gcp-sa-firestore.iam.gserviceaccount.com\n",
            "  role: roles/firestore.serviceAgent\n",
            "- members:\n",
            "  - group:conplat-devex@google.com\n",
            "  - user:cherilynn@google.com\n",
            "  - user:hannaassefa@google.com\n",
            "  role: roles/owner\n",
            "- members:\n",
            "  - serviceAccount:service-278769704157@gcp-sa-pubsub.iam.gserviceaccount.com\n",
            "  role: roles/pubsub.serviceAgent\n",
            "etag: BwYkwG8tia4=\n",
            "version: 1\n",
            "Updated IAM policy for project [conplat-devex-test-project].\n",
            "bindings:\n",
            "- members:\n",
            "  - serviceAccount:service-278769704157@gcp-sa-aiplatform-re.iam.gserviceaccount.com\n",
            "  role: roles/aiplatform.user\n",
            "- members:\n",
            "  - serviceAccount:service-278769704157@gcp-sa-aiplatform-re.iam.gserviceaccount.com\n",
            "  role: roles/alloydb.client\n",
            "- members:\n",
            "  - serviceAccount:service-278769704157@gcp-sa-aiplatform-re.iam.gserviceaccount.com\n",
            "  role: roles/alloydb.databaseUser\n",
            "- members:\n",
            "  - serviceAccount:service-278769704157@gcp-sa-alloydb.iam.gserviceaccount.com\n",
            "  role: roles/alloydb.serviceAgent\n",
            "- members:\n",
            "  - serviceAccount:service-278769704157@gcp-gae-service.iam.gserviceaccount.com\n",
            "  role: roles/appengine.serviceAgent\n",
            "- members:\n",
            "  - serviceAccount:service-278769704157@compute-system.iam.gserviceaccount.com\n",
            "  role: roles/compute.serviceAgent\n",
            "- members:\n",
            "  - serviceAccount:service-278769704157@container-engine-robot.iam.gserviceaccount.com\n",
            "  role: roles/container.serviceAgent\n",
            "- members:\n",
            "  - serviceAccount:service-278769704157@containerregistry.iam.gserviceaccount.com\n",
            "  role: roles/containerregistry.ServiceAgent\n",
            "- members:\n",
            "  - serviceAccount:278769704157@cloudservices.gserviceaccount.com\n",
            "  role: roles/editor\n",
            "- members:\n",
            "  - serviceAccount:service-278769704157@firebase-rules.iam.gserviceaccount.com\n",
            "  role: roles/firebaserules.system\n",
            "- members:\n",
            "  - serviceAccount:service-278769704157@gcp-sa-firestore.iam.gserviceaccount.com\n",
            "  role: roles/firestore.serviceAgent\n",
            "- members:\n",
            "  - group:conplat-devex@google.com\n",
            "  - user:cherilynn@google.com\n",
            "  - user:hannaassefa@google.com\n",
            "  role: roles/owner\n",
            "- members:\n",
            "  - serviceAccount:service-278769704157@gcp-sa-pubsub.iam.gserviceaccount.com\n",
            "  role: roles/pubsub.serviceAgent\n",
            "etag: BwYkwG9GLdw=\n",
            "version: 1\n",
            "Updated IAM policy for project [conplat-devex-test-project].\n",
            "bindings:\n",
            "- members:\n",
            "  - serviceAccount:service-278769704157@gcp-sa-aiplatform-re.iam.gserviceaccount.com\n",
            "  role: roles/aiplatform.user\n",
            "- members:\n",
            "  - serviceAccount:service-278769704157@gcp-sa-aiplatform-re.iam.gserviceaccount.com\n",
            "  role: roles/alloydb.client\n",
            "- members:\n",
            "  - serviceAccount:service-278769704157@gcp-sa-aiplatform-re.iam.gserviceaccount.com\n",
            "  role: roles/alloydb.databaseUser\n",
            "- members:\n",
            "  - serviceAccount:service-278769704157@gcp-sa-alloydb.iam.gserviceaccount.com\n",
            "  role: roles/alloydb.serviceAgent\n",
            "- members:\n",
            "  - serviceAccount:service-278769704157@gcp-gae-service.iam.gserviceaccount.com\n",
            "  role: roles/appengine.serviceAgent\n",
            "- members:\n",
            "  - serviceAccount:service-278769704157@compute-system.iam.gserviceaccount.com\n",
            "  role: roles/compute.serviceAgent\n",
            "- members:\n",
            "  - serviceAccount:service-278769704157@container-engine-robot.iam.gserviceaccount.com\n",
            "  role: roles/container.serviceAgent\n",
            "- members:\n",
            "  - serviceAccount:service-278769704157@containerregistry.iam.gserviceaccount.com\n",
            "  role: roles/containerregistry.ServiceAgent\n",
            "- members:\n",
            "  - serviceAccount:278769704157@cloudservices.gserviceaccount.com\n",
            "  role: roles/editor\n",
            "- members:\n",
            "  - serviceAccount:service-278769704157@firebase-rules.iam.gserviceaccount.com\n",
            "  role: roles/firebaserules.system\n",
            "- members:\n",
            "  - serviceAccount:service-278769704157@gcp-sa-firestore.iam.gserviceaccount.com\n",
            "  role: roles/firestore.serviceAgent\n",
            "- members:\n",
            "  - group:conplat-devex@google.com\n",
            "  - user:cherilynn@google.com\n",
            "  - user:hannaassefa@google.com\n",
            "  role: roles/owner\n",
            "- members:\n",
            "  - serviceAccount:service-278769704157@gcp-sa-pubsub.iam.gserviceaccount.com\n",
            "  role: roles/pubsub.serviceAgent\n",
            "- members:\n",
            "  - serviceAccount:service-278769704157@gcp-sa-aiplatform-re.iam.gserviceaccount.com\n",
            "  role: roles/serviceusage.serviceUsageConsumer\n",
            "etag: BwYkwG9cqzA=\n",
            "version: 1\n"
          ]
        }
      ],
      "source": [
        "# Define service account\n",
        "PROJECT_NUMBER = !gcloud projects describe {PROJECT_ID} --format=\"value(projectNumber)\"\n",
        "SERVICE_ACCOUNT = f\"service-{PROJECT_NUMBER[0]}@gcp-sa-aiplatform-re.iam.gserviceaccount.com\"\n",
        "IAM_USER = SERVICE_ACCOUNT.replace(\".gserviceaccount.com\", \"\")\n",
        "\n",
        "# Force the creation of the AI Platform service accounts\n",
        "# The service accounts will be created at deploy time if not pre-created\n",
        "!gcloud beta services identity create --service=aiplatform.googleapis.com --project={PROJECT_ID}\n",
        "\n",
        "# Add a service account as database IAM user\n",
        "# For an IAM service account, supply the service account's address without the .gserviceaccount.com\n",
        "!gcloud alloydb users create {IAM_USER} \\\n",
        "  --region={REGION} \\\n",
        "  --cluster={CLUSTER} \\\n",
        "  --project={PROJECT_ID} \\\n",
        "  --type=IAM_BASED \\\n",
        "\n",
        "# Grant IAM Permissions for database-user authentication\n",
        "!gcloud projects add-iam-policy-binding {PROJECT_ID} \\\n",
        "    --member=serviceAccount:{SERVICE_ACCOUNT} \\\n",
        "    --role=roles/alloydb.databaseUser\n",
        "\n",
        "# Grant IAM permissions to access AlloyDB instances\n",
        "!gcloud projects add-iam-policy-binding {PROJECT_ID} \\\n",
        "    --member=serviceAccount:{SERVICE_ACCOUNT} \\\n",
        "    --role=roles/alloydb.client\n",
        "\n",
        "# Grant IAM permissions to access AI Platform services\n",
        "!gcloud projects add-iam-policy-binding {PROJECT_ID} \\\n",
        "    --member=serviceAccount:{SERVICE_ACCOUNT}  \\\n",
        "    --role=roles/aiplatform.user\n",
        "\n",
        "!gcloud projects add-iam-policy-binding {PROJECT_ID} \\\n",
        "    --member=serviceAccount:{SERVICE_ACCOUNT}  \\\n",
        "    --role=roles/serviceusage.serviceUsageConsumer"
      ]
    },
    {
      "cell_type": "code",
      "execution_count": null,
      "metadata": {
        "id": "ojqmIHx8IWdB"
      },
      "outputs": [],
      "source": [
        "# Grant access to vector store table to IAM users\n",
        "engine = await AlloyDBEngine.afrom_instance(\n",
        "    PROJECT_ID, REGION, CLUSTER, INSTANCE, DATABASE, user=\"postgres\", password=PASSWORD\n",
        ")\n",
        "\n",
        "async with engine._pool.connect() as conn:\n",
        "    await conn.execute(text(f'GRANT SELECT ON {TABLE_NAME} TO \"{IAM_USER}\";'))"
      ]
    },
    {
      "cell_type": "markdown",
      "metadata": {
        "id": "XCra5kJVKyg5"
      },
      "source": [
        "## Define the retriever tool\n",
        "\n",
        "Tools are interfaces that an agent, chain, or LLM can use to enable the Gemini model to interact with external systems, databases, document stores, and other APIs so that the model can get the most up-to-date information or take action with those systems.\n",
        "\n",
        "In this example, you'll define a function that will retrieve similar documents from the vector store using semantic search.\n",
        "\n",
        "For improved security measures, the tool will use IAM-based authentication to authenticate to the databases instead of using the built-in user/password authentication."
      ]
    },
    {
      "cell_type": "code",
      "execution_count": null,
      "metadata": {
        "id": "MpUzFTt2K3Ky"
      },
      "outputs": [],
      "source": [
        "def similarity_search(query: str) -> list[Document]:\n",
        "    \"\"\"Searches and returns movies.\n",
        "\n",
        "    Args:\n",
        "      query: The user query to search for related items\n",
        "\n",
        "    Returns:\n",
        "      List[Document]: A list of Documents\n",
        "    \"\"\"\n",
        "    engine = AlloyDBEngine.from_instance(\n",
        "        PROJECT_ID,\n",
        "        REGION,\n",
        "        CLUSTER,\n",
        "        INSTANCE,\n",
        "        DATABASE,\n",
        "        # Uncomment to use built-in authentication instead of IAM authentication\n",
        "        # user=\"postgres\",\n",
        "        # password=PASSWORD,\n",
        "    )\n",
        "\n",
        "    vector_store = AlloyDBVectorStore.create_sync(\n",
        "        engine,\n",
        "        table_name=TABLE_NAME,\n",
        "        embedding_service=VertexAIEmbeddings(\n",
        "            model_name=\"textembedding-gecko@latest\", project=PROJECT_ID\n",
        "        ),\n",
        "    )\n",
        "    retriever = vector_store.as_retriever()\n",
        "    return retriever.invoke(query)"
      ]
    },
    {
      "cell_type": "markdown",
      "metadata": {
        "id": "ERxxgFTcI3DC"
      },
      "source": [
        "## Deploy the service\n",
        "\n",
        "Now that you've specified a model, tools, and reasoning for your agent and tested it out, you're ready to deploy your agent as a remote service in Vertex AI!\n",
        "\n",
        "Here, you'll use the LangChain agent template provided in the Vertex AI SDK for Reasoning Engine, which brings together the model, tools, and reasoning that you've built up so far."
      ]
    },
    {
      "cell_type": "code",
      "execution_count": null,
      "metadata": {
        "id": "k2nGSr2_JWcc"
      },
      "outputs": [],
      "source": [
        "vertexai.init(project=PROJECT_ID, location=\"us-central1\", staging_bucket=STAGING_BUCKET)\n",
        "\n",
        "remote_app = reasoning_engines.ReasoningEngine.create(\n",
        "    reasoning_engines.LangchainAgent(\n",
        "        model=\"gemini-pro\",\n",
        "        tools=[similarity_search],\n",
        "        model_kwargs={\n",
        "            \"temperature\": 0.1,\n",
        "        },\n",
        "    ),\n",
        "    requirements=[\n",
        "        \"google-cloud-aiplatform[reasoningengine,langchain]==1.68.0\",\n",
        "        \"langchain-google-alloydb-pg==0.7.0\",\n",
        "        \"langchain-google-vertexai==1.0.4\",\n",
        "    ],\n",
        "    display_name=\"PrebuiltAgent\",\n",
        ")"
      ]
    },
    {
      "cell_type": "markdown",
      "metadata": {
        "id": "TYqMpB16I4iH"
      },
      "source": [
        "## Try it out\n",
        "\n",
        "Query the remote app directly or retrieve the application endpoint via the resource ID or display name. The endpoint can be used from any Python environment."
      ]
    },
    {
      "cell_type": "code",
      "execution_count": null,
      "metadata": {
        "id": "45hiyNyfJ9Zo"
      },
      "outputs": [],
      "source": [
        "response = remote_app.query(input=\"Find movies about engineers\")\n",
        "print(response[\"output\"])"
      ]
    },
    {
      "cell_type": "code",
      "execution_count": null,
      "metadata": {
        "id": "rLO17Uv9Xha-"
      },
      "outputs": [],
      "source": [
        "# Retrieve the application endpoint via the display name\n",
        "app_list = reasoning_engines.ReasoningEngine.list(filter='display_name=\"PrebuiltAgent\"')\n",
        "RESOURCE_ID = app_list[0].name\n",
        "\n",
        "# Retrieve the application endpoint via the resource ID\n",
        "remote_app = reasoning_engines.ReasoningEngine(\n",
        "    f\"projects/{PROJECT_ID}/locations/{LOCATION}/reasoningEngines/{RESOURCE_ID}\"\n",
        ")"
      ]
    },
    {
      "cell_type": "markdown",
      "metadata": {
        "id": "MrZ9IjnAI5v9"
      },
      "source": [
        "## Clean up\n",
        "\n",
        "If you created a new project for this tutorial, delete the project. If you used an existing project and wish to keep it without the changes added in this tutorial, delete resources created for the tutorial."
      ]
    },
    {
      "cell_type": "markdown",
      "metadata": {
        "id": "tBc48ZHOJS6J"
      },
      "source": [
        "### Deleting the project\n",
        "\n",
        "The easiest way to eliminate billing is to delete the project that you created for the tutorial.\n",
        "\n",
        "1. In the Google Cloud console, go to the [Manage resources](https://console.cloud.google.com/iam-admin/projects?_ga=2.235586881.1783688455.1719351858-1945987529.1719351858) page.\n",
        "1. In the project list, select the project that you want to delete, and then click Delete.\n",
        "1. In the dialog, type the project ID, and then click Shut down to delete the project.\n"
      ]
    },
    {
      "cell_type": "markdown",
      "metadata": {
        "id": "Ed-BFtW-JPbI"
      },
      "source": [
        "### Deleting tutorial resources\n",
        "\n",
        "Delete the reasoning engine instance(s) and AlloyDB cluster and instance."
      ]
    },
    {
      "cell_type": "code",
      "execution_count": null,
      "metadata": {
        "id": "LgNlHrxkb6c-"
      },
      "outputs": [],
      "source": [
        "# Delete the ReasoningEngine instance\n",
        "remote_app.delete()"
      ]
    },
    {
      "cell_type": "code",
      "execution_count": null,
      "metadata": {
        "id": "goyrqS2_I8Hs"
      },
      "outputs": [],
      "source": [
        "# Or delete all Reasoning Engine apps\n",
        "apps = reasoning_engines.ReasoningEngine.list()\n",
        "for app in apps:\n",
        "    app.delete()"
      ]
    },
    {
      "cell_type": "code",
      "execution_count": null,
      "metadata": {
        "id": "odvj8aKpb3Wi"
      },
      "outputs": [],
      "source": [
        "# Delete the AlloyDB cluster and instance\n",
        "!gcloud alloydb clusters delete {CLUSTER} \\\n",
        "  --region={REGION} \\\n",
        "  --project={PROJECT_ID} \\\n",
        "  --force \\\n",
        "  --quiet"
      ]
    },
    {
      "cell_type": "markdown",
      "metadata": {
        "id": "8NbUPwEfI62R"
      },
      "source": [
        "## What's next\n",
        "\n",
        "* Dive deeper into [LangChain on Vertex AI](https://cloud.google.com/vertex-ai/generative-ai/docs/reasoning-engine/overview).\n",
        "* Learn more about the [AlloyDB for LangChain library](https://github.com/googleapis/langchain-google-alloydb-pg-python).\n",
        "* Explore other [Reasoning Engine samples](https://github.com/GoogleCloudPlatform/generative-ai/tree/main/gemini/reasoning-engine)."
      ]
    }
  ],
  "metadata": {
    "colab": {
      "name": "tutorial_alloydb_rag_agent.ipynb",
      "toc_visible": true,
      "provenance": []
    },
    "kernelspec": {
      "display_name": "Python 3",
      "name": "python3"
    }
  },
  "nbformat": 4,
  "nbformat_minor": 0
}